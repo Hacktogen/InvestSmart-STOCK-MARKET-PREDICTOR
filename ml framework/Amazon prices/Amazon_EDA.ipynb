{
  "nbformat": 4,
  "nbformat_minor": 0,
  "metadata": {
    "colab": {
      "name": "Amazon_EDA.ipynb",
      "provenance": []
    },
    "kernelspec": {
      "name": "python3",
      "display_name": "Python 3"
    }
  },
  "cells": [
    {
      "cell_type": "code",
      "metadata": {
        "id": "vIqQiXKWKMVF",
        "colab_type": "code",
        "outputId": "346cd3ab-2498-4158-8fa9-50fe9da6caa7",
        "colab": {
          "base_uri": "https://localhost:8080/",
          "height": 34
        }
      },
      "source": [
        "from google.colab import drive\n",
        "drive.mount(\"/content/drive\")"
      ],
      "execution_count": 9,
      "outputs": [
        {
          "output_type": "stream",
          "text": [
            "Drive already mounted at /content/drive; to attempt to forcibly remount, call drive.mount(\"/content/drive\", force_remount=True).\n"
          ],
          "name": "stdout"
        }
      ]
    },
    {
      "cell_type": "code",
      "metadata": {
        "id": "7RvBuTtQLLvG",
        "colab_type": "code",
        "colab": {}
      },
      "source": [
        "import numpy as np\n",
        "import pandas as pd\n",
        "import matplotlib.pyplot as plt\n",
        "import seaborn as sns\n",
        "%matplotlib inline"
      ],
      "execution_count": 0,
      "outputs": []
    },
    {
      "cell_type": "code",
      "metadata": {
        "id": "L3oNaQbQMAMr",
        "colab_type": "code",
        "colab": {}
      },
      "source": [
        "train = pd.DataFrame(pd.read_csv(\"/content/drive/My Drive/Datasets/Stock Prices/Amazon stock prices/AMZNtrain.csv\"))"
      ],
      "execution_count": 0,
      "outputs": []
    },
    {
      "cell_type": "code",
      "metadata": {
        "id": "1CnCc2wRMGS2",
        "colab_type": "code",
        "outputId": "bbfb6e93-f3bd-4493-82fc-a323758c38c7",
        "colab": {
          "base_uri": "https://localhost:8080/",
          "height": 204
        }
      },
      "source": [
        "train.head()"
      ],
      "execution_count": 12,
      "outputs": [
        {
          "output_type": "execute_result",
          "data": {
            "text/html": [
              "<div>\n",
              "<style scoped>\n",
              "    .dataframe tbody tr th:only-of-type {\n",
              "        vertical-align: middle;\n",
              "    }\n",
              "\n",
              "    .dataframe tbody tr th {\n",
              "        vertical-align: top;\n",
              "    }\n",
              "\n",
              "    .dataframe thead th {\n",
              "        text-align: right;\n",
              "    }\n",
              "</style>\n",
              "<table border=\"1\" class=\"dataframe\">\n",
              "  <thead>\n",
              "    <tr style=\"text-align: right;\">\n",
              "      <th></th>\n",
              "      <th>Date</th>\n",
              "      <th>Open</th>\n",
              "      <th>High</th>\n",
              "      <th>Low</th>\n",
              "      <th>Close</th>\n",
              "      <th>Adj Close</th>\n",
              "      <th>Volume</th>\n",
              "    </tr>\n",
              "  </thead>\n",
              "  <tbody>\n",
              "    <tr>\n",
              "      <th>0</th>\n",
              "      <td>2014-01-02</td>\n",
              "      <td>398.799988</td>\n",
              "      <td>399.359985</td>\n",
              "      <td>394.019989</td>\n",
              "      <td>397.970001</td>\n",
              "      <td>397.970001</td>\n",
              "      <td>2137800</td>\n",
              "    </tr>\n",
              "    <tr>\n",
              "      <th>1</th>\n",
              "      <td>2014-01-03</td>\n",
              "      <td>398.290009</td>\n",
              "      <td>402.709991</td>\n",
              "      <td>396.220001</td>\n",
              "      <td>396.440002</td>\n",
              "      <td>396.440002</td>\n",
              "      <td>2210200</td>\n",
              "    </tr>\n",
              "    <tr>\n",
              "      <th>2</th>\n",
              "      <td>2014-01-06</td>\n",
              "      <td>395.850006</td>\n",
              "      <td>397.000000</td>\n",
              "      <td>388.420013</td>\n",
              "      <td>393.630005</td>\n",
              "      <td>393.630005</td>\n",
              "      <td>3170600</td>\n",
              "    </tr>\n",
              "    <tr>\n",
              "      <th>3</th>\n",
              "      <td>2014-01-07</td>\n",
              "      <td>395.040009</td>\n",
              "      <td>398.470001</td>\n",
              "      <td>394.290009</td>\n",
              "      <td>398.029999</td>\n",
              "      <td>398.029999</td>\n",
              "      <td>1916000</td>\n",
              "    </tr>\n",
              "    <tr>\n",
              "      <th>4</th>\n",
              "      <td>2014-01-08</td>\n",
              "      <td>398.470001</td>\n",
              "      <td>403.000000</td>\n",
              "      <td>396.040009</td>\n",
              "      <td>401.920013</td>\n",
              "      <td>401.920013</td>\n",
              "      <td>2316500</td>\n",
              "    </tr>\n",
              "  </tbody>\n",
              "</table>\n",
              "</div>"
            ],
            "text/plain": [
              "         Date        Open        High  ...       Close   Adj Close   Volume\n",
              "0  2014-01-02  398.799988  399.359985  ...  397.970001  397.970001  2137800\n",
              "1  2014-01-03  398.290009  402.709991  ...  396.440002  396.440002  2210200\n",
              "2  2014-01-06  395.850006  397.000000  ...  393.630005  393.630005  3170600\n",
              "3  2014-01-07  395.040009  398.470001  ...  398.029999  398.029999  1916000\n",
              "4  2014-01-08  398.470001  403.000000  ...  401.920013  401.920013  2316500\n",
              "\n",
              "[5 rows x 7 columns]"
            ]
          },
          "metadata": {
            "tags": []
          },
          "execution_count": 12
        }
      ]
    },
    {
      "cell_type": "code",
      "metadata": {
        "id": "0QuATzs2MIiR",
        "colab_type": "code",
        "outputId": "3333aec7-bc10-4076-d1e3-5b7f1b7632e2",
        "colab": {
          "base_uri": "https://localhost:8080/",
          "height": 204
        }
      },
      "source": [
        "train.tail()"
      ],
      "execution_count": 13,
      "outputs": [
        {
          "output_type": "execute_result",
          "data": {
            "text/html": [
              "<div>\n",
              "<style scoped>\n",
              "    .dataframe tbody tr th:only-of-type {\n",
              "        vertical-align: middle;\n",
              "    }\n",
              "\n",
              "    .dataframe tbody tr th {\n",
              "        vertical-align: top;\n",
              "    }\n",
              "\n",
              "    .dataframe thead th {\n",
              "        text-align: right;\n",
              "    }\n",
              "</style>\n",
              "<table border=\"1\" class=\"dataframe\">\n",
              "  <thead>\n",
              "    <tr style=\"text-align: right;\">\n",
              "      <th></th>\n",
              "      <th>Date</th>\n",
              "      <th>Open</th>\n",
              "      <th>High</th>\n",
              "      <th>Low</th>\n",
              "      <th>Close</th>\n",
              "      <th>Adj Close</th>\n",
              "      <th>Volume</th>\n",
              "    </tr>\n",
              "  </thead>\n",
              "  <tbody>\n",
              "    <tr>\n",
              "      <th>1253</th>\n",
              "      <td>2018-12-24</td>\n",
              "      <td>1346.000000</td>\n",
              "      <td>1396.030029</td>\n",
              "      <td>1307.000000</td>\n",
              "      <td>1343.959961</td>\n",
              "      <td>1343.959961</td>\n",
              "      <td>7220000</td>\n",
              "    </tr>\n",
              "    <tr>\n",
              "      <th>1254</th>\n",
              "      <td>2018-12-26</td>\n",
              "      <td>1368.890015</td>\n",
              "      <td>1473.160034</td>\n",
              "      <td>1363.010010</td>\n",
              "      <td>1470.900024</td>\n",
              "      <td>1470.900024</td>\n",
              "      <td>10411800</td>\n",
              "    </tr>\n",
              "    <tr>\n",
              "      <th>1255</th>\n",
              "      <td>2018-12-27</td>\n",
              "      <td>1454.199951</td>\n",
              "      <td>1469.000000</td>\n",
              "      <td>1390.310059</td>\n",
              "      <td>1461.640015</td>\n",
              "      <td>1461.640015</td>\n",
              "      <td>9722000</td>\n",
              "    </tr>\n",
              "    <tr>\n",
              "      <th>1256</th>\n",
              "      <td>2018-12-28</td>\n",
              "      <td>1473.349976</td>\n",
              "      <td>1513.469971</td>\n",
              "      <td>1449.000000</td>\n",
              "      <td>1478.020020</td>\n",
              "      <td>1478.020020</td>\n",
              "      <td>8829000</td>\n",
              "    </tr>\n",
              "    <tr>\n",
              "      <th>1257</th>\n",
              "      <td>2018-12-31</td>\n",
              "      <td>1510.800049</td>\n",
              "      <td>1520.760010</td>\n",
              "      <td>1487.000000</td>\n",
              "      <td>1501.969971</td>\n",
              "      <td>1501.969971</td>\n",
              "      <td>6954500</td>\n",
              "    </tr>\n",
              "  </tbody>\n",
              "</table>\n",
              "</div>"
            ],
            "text/plain": [
              "            Date         Open         High  ...        Close    Adj Close    Volume\n",
              "1253  2018-12-24  1346.000000  1396.030029  ...  1343.959961  1343.959961   7220000\n",
              "1254  2018-12-26  1368.890015  1473.160034  ...  1470.900024  1470.900024  10411800\n",
              "1255  2018-12-27  1454.199951  1469.000000  ...  1461.640015  1461.640015   9722000\n",
              "1256  2018-12-28  1473.349976  1513.469971  ...  1478.020020  1478.020020   8829000\n",
              "1257  2018-12-31  1510.800049  1520.760010  ...  1501.969971  1501.969971   6954500\n",
              "\n",
              "[5 rows x 7 columns]"
            ]
          },
          "metadata": {
            "tags": []
          },
          "execution_count": 13
        }
      ]
    },
    {
      "cell_type": "code",
      "metadata": {
        "id": "yDb1EhjvMMIc",
        "colab_type": "code",
        "outputId": "46fce32f-028c-4972-b06a-12b5bed1b393",
        "colab": {
          "base_uri": "https://localhost:8080/",
          "height": 34
        }
      },
      "source": [
        "print(\"The shape of training data = {}\".format(train.shape))"
      ],
      "execution_count": 14,
      "outputs": [
        {
          "output_type": "stream",
          "text": [
            "The shape of training data = (1258, 7)\n"
          ],
          "name": "stdout"
        }
      ]
    },
    {
      "cell_type": "code",
      "metadata": {
        "id": "ui4xJESqGO1z",
        "colab_type": "code",
        "outputId": "2fadc628-19d6-46c6-d920-76fe2c717f35",
        "colab": {
          "base_uri": "https://localhost:8080/",
          "height": 601
        }
      },
      "source": [
        "plt.figure(figsize = (10, 10))\n",
        "sns.heatmap(train.corr(), annot = True, fmt = \".1g\", vmin = -1, vmax = 1, center = 0, linewidths = 3, linecolor = \"black\", square = True)"
      ],
      "execution_count": 15,
      "outputs": [
        {
          "output_type": "execute_result",
          "data": {
            "text/plain": [
              "<matplotlib.axes._subplots.AxesSubplot at 0x7f1eef057b38>"
            ]
          },
          "metadata": {
            "tags": []
          },
          "execution_count": 15
        },
        {
          "output_type": "display_data",
          "data": {
            "image/png": "[encoded data removed]",
            "text/plain": [
              "<Figure size 720x720 with 2 Axes>"
            ]
          },
          "metadata": {
            "tags": [],
            "needs_background": "light"
          }
        }
      ]
    },
    {
      "cell_type": "code",
      "metadata": {
        "id": "rkWw7ynd4vqv",
        "colab_type": "code",
        "colab": {
          "base_uri": "https://localhost:8080/",
          "height": 297
        },
        "outputId": "6b44772e-4c35-4e68-bc33-c3d3bba95faf"
      },
      "source": [
        "train.describe()"
      ],
      "execution_count": 16,
      "outputs": [
        {
          "output_type": "execute_result",
          "data": {
            "text/html": [
              "<div>\n",
              "<style scoped>\n",
              "    .dataframe tbody tr th:only-of-type {\n",
              "        vertical-align: middle;\n",
              "    }\n",
              "\n",
              "    .dataframe tbody tr th {\n",
              "        vertical-align: top;\n",
              "    }\n",
              "\n",
              "    .dataframe thead th {\n",
              "        text-align: right;\n",
              "    }\n",
              "</style>\n",
              "<table border=\"1\" class=\"dataframe\">\n",
              "  <thead>\n",
              "    <tr style=\"text-align: right;\">\n",
              "      <th></th>\n",
              "      <th>Open</th>\n",
              "      <th>High</th>\n",
              "      <th>Low</th>\n",
              "      <th>Close</th>\n",
              "      <th>Adj Close</th>\n",
              "      <th>Volume</th>\n",
              "    </tr>\n",
              "  </thead>\n",
              "  <tbody>\n",
              "    <tr>\n",
              "      <th>count</th>\n",
              "      <td>1258.000000</td>\n",
              "      <td>1258.000000</td>\n",
              "      <td>1258.000000</td>\n",
              "      <td>1258.000000</td>\n",
              "      <td>1258.000000</td>\n",
              "      <td>1.258000e+03</td>\n",
              "    </tr>\n",
              "    <tr>\n",
              "      <th>mean</th>\n",
              "      <td>823.840056</td>\n",
              "      <td>831.762583</td>\n",
              "      <td>814.173943</td>\n",
              "      <td>823.256543</td>\n",
              "      <td>823.256543</td>\n",
              "      <td>4.231814e+06</td>\n",
              "    </tr>\n",
              "    <tr>\n",
              "      <th>std</th>\n",
              "      <td>477.931392</td>\n",
              "      <td>482.851261</td>\n",
              "      <td>471.058235</td>\n",
              "      <td>476.952699</td>\n",
              "      <td>476.952699</td>\n",
              "      <td>2.400533e+06</td>\n",
              "    </tr>\n",
              "    <tr>\n",
              "      <th>min</th>\n",
              "      <td>284.399994</td>\n",
              "      <td>290.420013</td>\n",
              "      <td>284.000000</td>\n",
              "      <td>286.950012</td>\n",
              "      <td>286.950012</td>\n",
              "      <td>1.093000e+06</td>\n",
              "    </tr>\n",
              "    <tr>\n",
              "      <th>25%</th>\n",
              "      <td>393.892494</td>\n",
              "      <td>398.795006</td>\n",
              "      <td>388.427513</td>\n",
              "      <td>394.772492</td>\n",
              "      <td>394.772492</td>\n",
              "      <td>2.713950e+06</td>\n",
              "    </tr>\n",
              "    <tr>\n",
              "      <th>50%</th>\n",
              "      <td>726.450012</td>\n",
              "      <td>729.779999</td>\n",
              "      <td>720.079986</td>\n",
              "      <td>727.190002</td>\n",
              "      <td>727.190002</td>\n",
              "      <td>3.582300e+06</td>\n",
              "    </tr>\n",
              "    <tr>\n",
              "      <th>75%</th>\n",
              "      <td>1005.860016</td>\n",
              "      <td>1009.742493</td>\n",
              "      <td>997.122513</td>\n",
              "      <td>1002.762496</td>\n",
              "      <td>1002.762496</td>\n",
              "      <td>4.857900e+06</td>\n",
              "    </tr>\n",
              "    <tr>\n",
              "      <th>max</th>\n",
              "      <td>2038.109985</td>\n",
              "      <td>2050.500000</td>\n",
              "      <td>2013.000000</td>\n",
              "      <td>2039.510010</td>\n",
              "      <td>2039.510010</td>\n",
              "      <td>2.385610e+07</td>\n",
              "    </tr>\n",
              "  </tbody>\n",
              "</table>\n",
              "</div>"
            ],
            "text/plain": [
              "              Open         High  ...    Adj Close        Volume\n",
              "count  1258.000000  1258.000000  ...  1258.000000  1.258000e+03\n",
              "mean    823.840056   831.762583  ...   823.256543  4.231814e+06\n",
              "std     477.931392   482.851261  ...   476.952699  2.400533e+06\n",
              "min     284.399994   290.420013  ...   286.950012  1.093000e+06\n",
              "25%     393.892494   398.795006  ...   394.772492  2.713950e+06\n",
              "50%     726.450012   729.779999  ...   727.190002  3.582300e+06\n",
              "75%    1005.860016  1009.742493  ...  1002.762496  4.857900e+06\n",
              "max    2038.109985  2050.500000  ...  2039.510010  2.385610e+07\n",
              "\n",
              "[8 rows x 6 columns]"
            ]
          },
          "metadata": {
            "tags": []
          },
          "execution_count": 16
        }
      ]
    },
    {
      "cell_type": "code",
      "metadata": {
        "id": "Xx6ITrc1505V",
        "colab_type": "code",
        "colab": {
          "base_uri": "https://localhost:8080/",
          "height": 255
        },
        "outputId": "a49ebd7d-1a48-4d83-f23c-fd59789c375e"
      },
      "source": [
        "train.info()"
      ],
      "execution_count": 17,
      "outputs": [
        {
          "output_type": "stream",
          "text": [
            "<class 'pandas.core.frame.DataFrame'>\n",
            "RangeIndex: 1258 entries, 0 to 1257\n",
            "Data columns (total 7 columns):\n",
            " #   Column     Non-Null Count  Dtype  \n",
            "---  ------     --------------  -----  \n",
            " 0   Date       1258 non-null   object \n",
            " 1   Open       1258 non-null   float64\n",
            " 2   High       1258 non-null   float64\n",
            " 3   Low        1258 non-null   float64\n",
            " 4   Close      1258 non-null   float64\n",
            " 5   Adj Close  1258 non-null   float64\n",
            " 6   Volume     1258 non-null   int64  \n",
            "dtypes: float64(5), int64(1), object(1)\n",
            "memory usage: 68.9+ KB\n"
          ],
          "name": "stdout"
        }
      ]
    },
    {
      "cell_type": "code",
      "metadata": {
        "id": "htE4XPPC6h96",
        "colab_type": "code",
        "colab": {
          "base_uri": "https://localhost:8080/",
          "height": 350
        },
        "outputId": "6c58b845-58e6-444a-988b-5e0ad47581b8"
      },
      "source": [
        "plt.figure(figsize = (15, 5))\n",
        "plt.subplot(2,1,1)\n",
        "plt.plot(train.Open.values, color = \"red\", label = \"Open Stock Price\")\n",
        "plt.plot(train.Close.values, color = \"green\", label = \"Closed Stock Price\")\n",
        "plt.plot(train.High.values, color = \"blue\", label = \"High Price\")\n",
        "plt.plot(train.Low.values, color = \"magenta\", label = \"Low Price\")\n",
        "plt.title(\"Amazon Stock Price Analysis\")\n",
        "plt.xlabel(\"time in days\")\n",
        "plt.ylabel(\"Stock price\")\n",
        "plt.legend(loc = \"best\")\n",
        "plt.grid(which = \"major\", axis = \"both\")\n",
        "\n",
        "plt.subplot(2,1,2)\n",
        "plt.plot(train.Volume.values, color= \"black\", label = \"Stock volume\")\n",
        "plt.title(\"Stock Volume\")\n",
        "plt.xlabel(\"time in days\")\n",
        "plt.ylabel(\"Volume\")\n",
        "plt.legend(loc = \"best\")\n",
        "plt.grid(which = \"major\", axis = \"both\")\n",
        "plt.show()"
      ],
      "execution_count": 26,
      "outputs": [
        {
          "output_type": "display_data",
          "data": {
            "image/png": "[encoded data removed]",
            "text/plain": [
              "<Figure size 1080x360 with 2 Axes>"
            ]
          },
          "metadata": {
            "tags": [],
            "needs_background": "light"
          }
        }
      ]
    }
  ]
}